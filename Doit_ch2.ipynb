{
 "cells": [
  {
   "cell_type": "code",
   "execution_count": 19,
   "metadata": {},
   "outputs": [
    {
     "name": "stdout",
     "output_type": "stream",
     "text": [
      "배열 최대 값\n",
      "최대값 5\n"
     ]
    }
   ],
   "source": [
    "# 실습 2-2\n",
    "# 시퀀스 원소의  최대값  출력  하기\n",
    "from typing import Any, Sequence\n",
    "\n",
    "def max_of(a : Sequence) -> Any:\n",
    "    maxinum = a[0]\n",
    "    for i in range (1, len(a)):\n",
    "        if(a[i] > maxinum):\n",
    "            maxinum = a[i]\n",
    "    return maxinum\n",
    "\n",
    "if __name__ == '__main__':\n",
    "    print('배열 최대 값')\n",
    "    num = int(input('원소 갯수 입력' ))\n",
    "    x = [None] * num\n",
    "   \n",
    "    for i in range(num):\n",
    "        x[i] = int(input(f'x[{i}]값을 입력 :'))\n",
    "\n",
    "    print(f'최대값 {max(x)}')"
   ]
  },
  {
   "cell_type": "code",
   "execution_count": 32,
   "metadata": {},
   "outputs": [
    {
     "name": "stdout",
     "output_type": "stream",
     "text": [
      "배열 최대값 구하기\n",
      "0입력 종료\n",
      "maxiums = 7\n"
     ]
    }
   ],
   "source": [
    "# 2-3 실습 \n",
    "# 배열 원소의 최댓값을 구해서 출력하기\n",
    "\n",
    "from max import max_of\n",
    "\n",
    "print('배열 최대값 구하기')\n",
    "print('0입력 종료')\n",
    "\n",
    "number = 0\n",
    "x = []\n",
    "\n",
    "while True :\n",
    "    s = input(f'x[{number}]값을 입력하세요 : ')\n",
    "    if s == '0' : \n",
    "        break\n",
    "    x.append(int(s))\n",
    "    number += 1\n",
    "\n",
    "print(f'maxiums = {max_of(x)}')\n"
   ]
  },
  {
   "cell_type": "code",
   "execution_count": null,
   "metadata": {},
   "outputs": [],
   "source": [
    "# 실습 2-5\n",
    "# 배열 원소의 최대값을 구해서 출력하기 (튜플, 문자열, 문자열 리스트)\n",
    "\n",
    "from max import max_of\n",
    "\n",
    "t = (4, 5, 213, 123, 555)\n",
    "s = 'string'\n",
    "a = ['A', 'B', 'C']\n",
    "\n",
    "print(f'{t} 최대값 {max_of(t)}')\n",
    "print(f'{s} 최대값 {max_of(s)}')\n",
    "print(f'{a} 최대값 {max_of(a)}')\n"
   ]
  },
  {
   "cell_type": "code",
   "execution_count": null,
   "metadata": {},
   "outputs": [],
   "source": [
    "#enumerate\n",
    "\n",
    "#실습 2c-2, \n",
    "\n",
    "x = ['asd', 'qwe', 'zxc', 'rty']\n",
    "\n",
    "for i, name in enumerate(x): \n",
    "    print(f'x[{i}] = {name}')\n",
    "\n",
    "# 2c-3\n",
    "for i, name in enumerate(x, 1):\n",
    "    print(f'{i}번째 : {name}')\n",
    "\n",
    "# 2c-4\n",
    "for i in x:\n",
    "    print(i)"
   ]
  },
  {
   "cell_type": "code",
   "execution_count": 24,
   "metadata": {},
   "outputs": [
    {
     "name": "stdout",
     "output_type": "stream",
     "text": [
      "[1, 2, 3, 4, 5, 6, 7]\n",
      "배열 역순 정렬 [7, 6, 5, 4, 3, 2, 1]\n"
     ]
    }
   ],
   "source": [
    "# 실습 2-6\n",
    "# 뮤터블 시퀀스 원소를 역순으로 정렬\n",
    "\n",
    "from typing import Any, Sequence\n",
    "\n",
    "def reverse_arrary(a : Sequence) -> Any:\n",
    "    \n",
    "    tmp  = 0\n",
    "    a_len = len(a)\n",
    "# c style\n",
    "#    for i in range(a_len // 2):\n",
    "#       tmp = a[i]\n",
    "#       a[i] = a[(a_len - i) - 1]\n",
    "#       a[(a_len - i) - 1] = tmp\n",
    "#python style\n",
    "    for i in range(a_len // 2):\n",
    "        a[i], a[(a_len - i) - 1] = a[(a_len - i) - 1], a[i] \n",
    "\n",
    "if __name__ == '__main__':\n",
    "    nx = int(input('원소 수 입력 : '))\n",
    "    x = [None] * nx\n",
    "\n",
    "    for i in range(nx):\n",
    "        x[i] = int(input(f'x[{i}] 값 입력 : '))\n",
    "\n",
    "    print(x)\n",
    "    reverse_arrary(x)\n",
    "    \n",
    "    print('배열 역순 정렬', x)\n",
    "\n"
   ]
  },
  {
   "cell_type": "code",
   "execution_count": null,
   "metadata": {},
   "outputs": [],
   "source": [
    "# 실습 2-7\n",
    "# 10진수 정숫값을 입력받아 2~36진수로 출력\n",
    "\n",
    "def cord_conv(x: int, y: int) -> str:\n",
    "    d = ''\n",
    "    dchar = '0123456789ABCDEFGHIJKLMNOPQRSTUVWXYZ'\n",
    "\n",
    "    while x > 0:\n",
    "        d += dchar[x % y]\n",
    "        x = x // y\n",
    "\n",
    "    return d[::-1] #역순으로 리턴\n",
    "\n",
    "if __name__ == '__main__':\n",
    "    print('10진수를 n진수로 변환')\n",
    "\n",
    "    while True:\n",
    "        while True:\n",
    "            no = int(input('변환할 값 입력 :'))\n",
    "            if no > 0:\n",
    "                break\n",
    "        while True:\n",
    "            base = int(input('변환 진수 입력 : '))\n",
    "            if 2 <= base <= 36:\n",
    "                break\n",
    "    \n",
    "        print(f'{base}진수는 {cord_conv(no, base)}입니다')\n",
    "\n",
    "        retry = input(\"한 번 더 변환 (Y : 예/ N : 아니요): \")\n",
    "        if retry in {'N', 'n'}:\n",
    "            break"
   ]
  },
  {
   "cell_type": "code",
   "execution_count": null,
   "metadata": {},
   "outputs": [],
   "source": []
  }
 ],
 "metadata": {
  "interpreter": {
   "hash": "31f2aee4e71d21fbe5cf8b01ff0e069b9275f58929596ceb00d14d90e3e16cd6"
  },
  "kernelspec": {
   "display_name": "Python 3.8.2 64-bit",
   "language": "python",
   "name": "python3"
  },
  "language_info": {
   "codemirror_mode": {
    "name": "ipython",
    "version": 3
   },
   "file_extension": ".py",
   "mimetype": "text/x-python",
   "name": "python",
   "nbconvert_exporter": "python",
   "pygments_lexer": "ipython3",
   "version": "3.8.2"
  },
  "orig_nbformat": 4
 },
 "nbformat": 4,
 "nbformat_minor": 2
}
